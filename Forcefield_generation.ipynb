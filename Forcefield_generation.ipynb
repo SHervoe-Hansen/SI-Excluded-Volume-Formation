{
 "cells": [
  {
   "cell_type": "markdown",
   "id": "98f83939",
   "metadata": {},
   "source": [
    "# Free-Energy Decomposition of Salt Effects on the Solubilities of Small Molecules and the Role of Excluded-Volume Effects\n",
    "\n",
    "Stefan Hervø-Hansen<sup>a,&#42;</sup>, Lin Daoyang<sup>a</sup>, Kento Kasahara<sup>a</sup>, and Nobuyuki Matubayasi<sup>a,&#42;</sup>.<br><br>\n",
    "<sup>a</sup> Division of Chemical Engineering, Graduate School of Engineering Science, Osaka University, Toyonaka, Osaka 560-8531, Japan.<br>\n",
    "<sup>*</sup> To whom correspondence may be addressed: stefan@cheng.es.osaka-u.ac.jp and nobuyuki@cheng.es.osaka-u.ac.jp.\n",
    "\n",
    "## PART 1: Force field Parameter Generation\n",
    "For this project we are gonna utilize the [SPC/E](https://doi.org/10.1063/1.2841127) water model, [Heyda _et al_ parameters](https://doi.org/10.1021/jp910953w) for monatomic anions and cations, and finally the solute using the [GAFF-2.11](https://doi.org/10.1002/jcc.20035). While the OPC water model and ions have been manually imported, we desire the option to simulate any arbitrary solute. Consequently this notebook serve exactly as the solution to that problem.\n",
    "\n",
    "In this notebook we will generate the force field parameters for the solute molecules one choose to study. In order to do so one must include the solute molecule in the variable `solutes` with the `Category` being a subdirectory within the `PDB_files` directory.\n",
    "\n",
    "\n",
    "## Import of Python Modules & Auxiliary Functions"
   ]
  },
  {
   "cell_type": "code",
   "execution_count": 1,
   "id": "3e5c7f80",
   "metadata": {},
   "outputs": [
    {
     "name": "stdout",
     "output_type": "stream",
     "text": [
      "/data/group1/z44785r/SI-Cavity-Formation\n"
     ]
    }
   ],
   "source": [
    "from openmm.app import PDBFile, ForceField\n",
    "from openff.toolkit.topology import Molecule, Topology\n",
    "from openmmforcefields.generators import GAFFTemplateGenerator\n",
    "import parmed as pmd\n",
    "import os\n",
    "\n",
    "homedir = !pwd\n",
    "homedir = homedir[0]\n",
    "print(homedir)"
   ]
  },
  {
   "cell_type": "markdown",
   "id": "645804bb",
   "metadata": {},
   "source": [
    "### Solute list and choice of force field"
   ]
  },
  {
   "cell_type": "code",
   "execution_count": 2,
   "id": "5a7e869d",
   "metadata": {},
   "outputs": [],
   "source": [
    "# Solute list\n",
    "solutes = {\n",
    "    'methanol':   {'SMILES': 'CO',      'Category': 'n-alcohols', 'Resname': 'MOH'},\n",
    "    'ethanol' :   {'SMILES': 'CCO',     'Category': 'n-alcohols', 'Resname': 'EOH'},\n",
    "    'n-propanol': {'SMILES': 'CCCO',    'Category': 'n-alcohols', 'Resname': 'PHO'},\n",
    "    'n-butanol' : {'SMILES': 'CCCCO',   'Category': 'n-alcohols', 'Resname': 'BOH'},\n",
    "    'n-pentanol': {'SMILES': 'CCCCCO',  'Category': 'n-alcohols', 'Resname': 'POH'},\n",
    "    'n-hexanol':  {'SMILES': 'CCCCCCO', 'Category': 'n-alcohols', 'Resname': 'HHO'},\n",
    "    \n",
    "    'methane':    {'SMILES': 'C',       'Category': 'n-alkanes',  'Resname': 'MTH'},\n",
    "    'ethane' :    {'SMILES': 'CC',      'Category': 'n-alkanes',  'Resname': 'ETH'},\n",
    "    'propane':    {'SMILES': 'CCC',     'Category': 'n-alkanes',  'Resname': 'PRP'},\n",
    "    'n-butane' :  {'SMILES': 'CCCC',    'Category': 'n-alkanes',  'Resname': 'BUT'},\n",
    "    'n-pentane':  {'SMILES': 'CCCCC',   'Category': 'n-alkanes',  'Resname': 'PEN'},\n",
    "    'n-hexane':   {'SMILES': 'CCCCCC',  'Category': 'n-alkanes',  'Resname': 'HEX'},\n",
    "}"
   ]
  },
  {
   "cell_type": "markdown",
   "id": "3e3823c2",
   "metadata": {},
   "source": [
    "### Generate parameters"
   ]
  },
  {
   "cell_type": "code",
   "execution_count": 3,
   "id": "a6b7f707",
   "metadata": {},
   "outputs": [],
   "source": [
    "%cd -q $homedir\n",
    "for solute, solute_properties in solutes.items():\n",
    "    if not os.path.isfile('Force_fields/{}.itp'.format(solute)): # check if a force field file exist for the solute\n",
    "        molecule = Molecule.from_smiles(solute_properties['SMILES'])\n",
    "        gaff = GAFFTemplateGenerator(molecules=molecule, forcefield='gaff-2.11')\n",
    "        forcefield = ForceField()\n",
    "        forcefield.registerTemplateGenerator(gaff.generator)\n",
    "        pdbfile = PDBFile('PDB_files/{}/{}.pdb'.format(solute_properties['Category'], solute))\n",
    "        system = forcefield.createSystem(pdbfile.topology)\n",
    "        parmed_structure = pmd.openmm.load_topology(pdbfile.topology, system, pdbfile.positions)\n",
    "        parmed_structure.save(\"Force_fields/temporary.top\", overwrite=True)        \n",
    "        with open(\"Force_fields/temporary.top\", \"r+\") as f:\n",
    "            lines = f.readlines()\n",
    "        f.close()\n",
    "        os.remove('Force_fields/temporary.top')\n",
    "        \n",
    "        with open('Force_fields/{}.itp'.format(solute), \"w\") as f:\n",
    "            for i,line in enumerate(lines):\n",
    "                if '[ defaults ]' in line:\n",
    "                    for j in range(3):\n",
    "                        lines[i+j] = ''\n",
    "            f.seek(0)\n",
    "            for line in lines[:-7]:\n",
    "                f.write(line)\n",
    "        f.close()"
   ]
  },
  {
   "cell_type": "code",
   "execution_count": null,
   "id": "bc94c900-9305-40ea-9da3-f83712608587",
   "metadata": {},
   "outputs": [],
   "source": []
  }
 ],
 "metadata": {
  "kernelspec": {
   "display_name": "Python 3 (ipykernel)",
   "language": "python",
   "name": "python3"
  },
  "language_info": {
   "codemirror_mode": {
    "name": "ipython",
    "version": 3
   },
   "file_extension": ".py",
   "mimetype": "text/x-python",
   "name": "python",
   "nbconvert_exporter": "python",
   "pygments_lexer": "ipython3",
   "version": "3.10.9"
  }
 },
 "nbformat": 4,
 "nbformat_minor": 5
}
